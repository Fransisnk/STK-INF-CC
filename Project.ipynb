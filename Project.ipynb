{
 "cells": [
  {
   "cell_type": "markdown",
   "metadata": {},
   "source": [
    "# Project"
   ]
  },
  {
   "cell_type": "code",
   "execution_count": 213,
   "metadata": {
    "collapsed": false
   },
   "outputs": [],
   "source": [
    "%matplotlib inline\n",
    "\n",
    "import matplotlib\n",
    "import matplotlib.pyplot as plt\n",
    "import pandas as pd\n",
    "import numpy as np\n",
    "import csv\n",
    "from itertools import izip"
   ]
  },
  {
   "cell_type": "code",
   "execution_count": 259,
   "metadata": {
    "collapsed": false
   },
   "outputs": [],
   "source": [
    "df = pd.read_csv('KS_Mobile_Calls.csv',header = None)"
   ]
  },
  {
   "cell_type": "code",
   "execution_count": 260,
   "metadata": {
    "collapsed": false
   },
   "outputs": [],
   "source": [
    "DT,cat,nr =[],[],[]\n",
    "\n",
    "for i in range(1,len(df.index)):\n",
    "    s = df[0][i].split(';')\n",
    "    d,t,ty,n = s[0].split(' ')[0],s[1],s[-2],int(s[-1])\n",
    "    DT.append(d+' '+t)\n",
    "    cat.append(ty)\n",
    "    nr.append(n)\n",
    "    "
   ]
  },
  {
   "cell_type": "code",
   "execution_count": 261,
   "metadata": {
    "collapsed": true
   },
   "outputs": [],
   "source": [
    "dtemp = {'Time':DT,\n",
    "        'Type':cat,\n",
    "        'NumCalls':nr}"
   ]
  },
  {
   "cell_type": "code",
   "execution_count": 262,
   "metadata": {
    "collapsed": false
   },
   "outputs": [],
   "source": [
    "df=pd.DataFrame(dtemp,columns=['Time', 'Type','NumCalls'])"
   ]
  },
  {
   "cell_type": "code",
   "execution_count": 263,
   "metadata": {
    "collapsed": false
   },
   "outputs": [],
   "source": [
    "dfak = df.loc[df['Type'] == 'Mobile Faktura']"
   ]
  },
  {
   "cell_type": "code",
   "execution_count": 264,
   "metadata": {
    "collapsed": false,
    "scrolled": true
   },
   "outputs": [
    {
     "name": "stderr",
     "output_type": "stream",
     "text": [
      "C:\\Users\\Wei\\Anaconda3\\envs\\python2\\lib\\site-packages\\ipykernel\\__main__.py:1: SettingWithCopyWarning: \n",
      "A value is trying to be set on a copy of a slice from a DataFrame.\n",
      "Try using .loc[row_indexer,col_indexer] = value instead\n",
      "\n",
      "See the caveats in the documentation: http://pandas.pydata.org/pandas-docs/stable/indexing.html#indexing-view-versus-copy\n",
      "  if __name__ == '__main__':\n"
     ]
    }
   ],
   "source": [
    "dfak['Time'] = pd.to_datetime(dfak.Time)\n"
   ]
  },
  {
   "cell_type": "code",
   "execution_count": 265,
   "metadata": {
    "collapsed": false
   },
   "outputs": [
    {
     "data": {
      "text/html": [
       "<div>\n",
       "<table border=\"1\" class=\"dataframe\">\n",
       "  <thead>\n",
       "    <tr style=\"text-align: right;\">\n",
       "      <th></th>\n",
       "      <th>Time</th>\n",
       "      <th>Type</th>\n",
       "      <th>NumCalls</th>\n",
       "    </tr>\n",
       "  </thead>\n",
       "  <tbody>\n",
       "    <tr>\n",
       "      <th>15</th>\n",
       "      <td>2013-01-01 09:00:00</td>\n",
       "      <td>Mobile Faktura</td>\n",
       "      <td>1</td>\n",
       "    </tr>\n",
       "    <tr>\n",
       "      <th>21</th>\n",
       "      <td>2013-01-01 09:15:00</td>\n",
       "      <td>Mobile Faktura</td>\n",
       "      <td>3</td>\n",
       "    </tr>\n",
       "    <tr>\n",
       "      <th>52</th>\n",
       "      <td>2013-01-01 09:15:00</td>\n",
       "      <td>Mobile Faktura</td>\n",
       "      <td>1</td>\n",
       "    </tr>\n",
       "    <tr>\n",
       "      <th>32</th>\n",
       "      <td>2013-01-01 09:30:00</td>\n",
       "      <td>Mobile Faktura</td>\n",
       "      <td>2</td>\n",
       "    </tr>\n",
       "    <tr>\n",
       "      <th>46</th>\n",
       "      <td>2013-01-01 09:30:00</td>\n",
       "      <td>Mobile Faktura</td>\n",
       "      <td>1</td>\n",
       "    </tr>\n",
       "    <tr>\n",
       "      <th>25</th>\n",
       "      <td>2013-01-01 09:45:00</td>\n",
       "      <td>Mobile Faktura</td>\n",
       "      <td>1</td>\n",
       "    </tr>\n",
       "    <tr>\n",
       "      <th>37</th>\n",
       "      <td>2013-01-01 09:45:00</td>\n",
       "      <td>Mobile Faktura</td>\n",
       "      <td>1</td>\n",
       "    </tr>\n",
       "    <tr>\n",
       "      <th>54</th>\n",
       "      <td>2013-01-01 10:00:00</td>\n",
       "      <td>Mobile Faktura</td>\n",
       "      <td>7</td>\n",
       "    </tr>\n",
       "    <tr>\n",
       "      <th>56</th>\n",
       "      <td>2013-01-01 10:15:00</td>\n",
       "      <td>Mobile Faktura</td>\n",
       "      <td>2</td>\n",
       "    </tr>\n",
       "    <tr>\n",
       "      <th>57</th>\n",
       "      <td>2013-01-01 10:30:00</td>\n",
       "      <td>Mobile Faktura</td>\n",
       "      <td>1</td>\n",
       "    </tr>\n",
       "    <tr>\n",
       "      <th>35</th>\n",
       "      <td>2013-01-01 10:30:00</td>\n",
       "      <td>Mobile Faktura</td>\n",
       "      <td>2</td>\n",
       "    </tr>\n",
       "    <tr>\n",
       "      <th>29</th>\n",
       "      <td>2013-01-01 10:45:00</td>\n",
       "      <td>Mobile Faktura</td>\n",
       "      <td>2</td>\n",
       "    </tr>\n",
       "    <tr>\n",
       "      <th>11</th>\n",
       "      <td>2013-01-01 10:45:00</td>\n",
       "      <td>Mobile Faktura</td>\n",
       "      <td>2</td>\n",
       "    </tr>\n",
       "    <tr>\n",
       "      <th>13</th>\n",
       "      <td>2013-01-01 11:00:00</td>\n",
       "      <td>Mobile Faktura</td>\n",
       "      <td>5</td>\n",
       "    </tr>\n",
       "    <tr>\n",
       "      <th>114</th>\n",
       "      <td>2013-01-01 11:15:00</td>\n",
       "      <td>Mobile Faktura</td>\n",
       "      <td>2</td>\n",
       "    </tr>\n",
       "    <tr>\n",
       "      <th>62</th>\n",
       "      <td>2013-01-01 11:30:00</td>\n",
       "      <td>Mobile Faktura</td>\n",
       "      <td>5</td>\n",
       "    </tr>\n",
       "    <tr>\n",
       "      <th>76</th>\n",
       "      <td>2013-01-01 11:45:00</td>\n",
       "      <td>Mobile Faktura</td>\n",
       "      <td>5</td>\n",
       "    </tr>\n",
       "    <tr>\n",
       "      <th>4</th>\n",
       "      <td>2013-01-01 12:00:00</td>\n",
       "      <td>Mobile Faktura</td>\n",
       "      <td>5</td>\n",
       "    </tr>\n",
       "    <tr>\n",
       "      <th>69</th>\n",
       "      <td>2013-01-01 12:15:00</td>\n",
       "      <td>Mobile Faktura</td>\n",
       "      <td>8</td>\n",
       "    </tr>\n",
       "    <tr>\n",
       "      <th>109</th>\n",
       "      <td>2013-01-01 12:15:00</td>\n",
       "      <td>Mobile Faktura</td>\n",
       "      <td>1</td>\n",
       "    </tr>\n",
       "    <tr>\n",
       "      <th>71</th>\n",
       "      <td>2013-01-01 12:30:00</td>\n",
       "      <td>Mobile Faktura</td>\n",
       "      <td>7</td>\n",
       "    </tr>\n",
       "    <tr>\n",
       "      <th>80</th>\n",
       "      <td>2013-01-01 12:45:00</td>\n",
       "      <td>Mobile Faktura</td>\n",
       "      <td>5</td>\n",
       "    </tr>\n",
       "    <tr>\n",
       "      <th>86</th>\n",
       "      <td>2013-01-01 12:45:00</td>\n",
       "      <td>Mobile Faktura</td>\n",
       "      <td>1</td>\n",
       "    </tr>\n",
       "    <tr>\n",
       "      <th>159</th>\n",
       "      <td>2013-01-01 13:00:00</td>\n",
       "      <td>Mobile Faktura</td>\n",
       "      <td>4</td>\n",
       "    </tr>\n",
       "    <tr>\n",
       "      <th>135</th>\n",
       "      <td>2013-01-01 13:00:00</td>\n",
       "      <td>Mobile Faktura</td>\n",
       "      <td>1</td>\n",
       "    </tr>\n",
       "    <tr>\n",
       "      <th>190</th>\n",
       "      <td>2013-01-01 13:15:00</td>\n",
       "      <td>Mobile Faktura</td>\n",
       "      <td>3</td>\n",
       "    </tr>\n",
       "    <tr>\n",
       "      <th>75</th>\n",
       "      <td>2013-01-01 13:15:00</td>\n",
       "      <td>Mobile Faktura</td>\n",
       "      <td>1</td>\n",
       "    </tr>\n",
       "    <tr>\n",
       "      <th>120</th>\n",
       "      <td>2013-01-01 13:30:00</td>\n",
       "      <td>Mobile Faktura</td>\n",
       "      <td>1</td>\n",
       "    </tr>\n",
       "    <tr>\n",
       "      <th>163</th>\n",
       "      <td>2013-01-01 13:30:00</td>\n",
       "      <td>Mobile Faktura</td>\n",
       "      <td>1</td>\n",
       "    </tr>\n",
       "    <tr>\n",
       "      <th>140</th>\n",
       "      <td>2013-01-01 13:45:00</td>\n",
       "      <td>Mobile Faktura</td>\n",
       "      <td>2</td>\n",
       "    </tr>\n",
       "    <tr>\n",
       "      <th>...</th>\n",
       "      <td>...</td>\n",
       "      <td>...</td>\n",
       "      <td>...</td>\n",
       "    </tr>\n",
       "    <tr>\n",
       "      <th>673252</th>\n",
       "      <td>2016-11-24 16:30:00</td>\n",
       "      <td>Mobile Faktura</td>\n",
       "      <td>2</td>\n",
       "    </tr>\n",
       "    <tr>\n",
       "      <th>605802</th>\n",
       "      <td>2016-11-24 16:30:00</td>\n",
       "      <td>Mobile Faktura</td>\n",
       "      <td>10</td>\n",
       "    </tr>\n",
       "    <tr>\n",
       "      <th>605803</th>\n",
       "      <td>2016-11-24 16:45:00</td>\n",
       "      <td>Mobile Faktura</td>\n",
       "      <td>12</td>\n",
       "    </tr>\n",
       "    <tr>\n",
       "      <th>659958</th>\n",
       "      <td>2016-11-24 16:45:00</td>\n",
       "      <td>Mobile Faktura</td>\n",
       "      <td>2</td>\n",
       "    </tr>\n",
       "    <tr>\n",
       "      <th>659957</th>\n",
       "      <td>2016-11-24 16:45:00</td>\n",
       "      <td>Mobile Faktura</td>\n",
       "      <td>0</td>\n",
       "    </tr>\n",
       "    <tr>\n",
       "      <th>759580</th>\n",
       "      <td>2016-11-24 17:00:00</td>\n",
       "      <td>Mobile Faktura</td>\n",
       "      <td>1</td>\n",
       "    </tr>\n",
       "    <tr>\n",
       "      <th>668854</th>\n",
       "      <td>2016-11-24 17:00:00</td>\n",
       "      <td>Mobile Faktura</td>\n",
       "      <td>7</td>\n",
       "    </tr>\n",
       "    <tr>\n",
       "      <th>636164</th>\n",
       "      <td>2016-11-24 17:00:00</td>\n",
       "      <td>Mobile Faktura</td>\n",
       "      <td>13</td>\n",
       "    </tr>\n",
       "    <tr>\n",
       "      <th>615578</th>\n",
       "      <td>2016-11-24 17:15:00</td>\n",
       "      <td>Mobile Faktura</td>\n",
       "      <td>6</td>\n",
       "    </tr>\n",
       "    <tr>\n",
       "      <th>605805</th>\n",
       "      <td>2016-11-24 17:15:00</td>\n",
       "      <td>Mobile Faktura</td>\n",
       "      <td>10</td>\n",
       "    </tr>\n",
       "    <tr>\n",
       "      <th>673258</th>\n",
       "      <td>2016-11-24 17:30:00</td>\n",
       "      <td>Mobile Faktura</td>\n",
       "      <td>8</td>\n",
       "    </tr>\n",
       "    <tr>\n",
       "      <th>605807</th>\n",
       "      <td>2016-11-24 17:30:00</td>\n",
       "      <td>Mobile Faktura</td>\n",
       "      <td>2</td>\n",
       "    </tr>\n",
       "    <tr>\n",
       "      <th>659965</th>\n",
       "      <td>2016-11-24 17:45:00</td>\n",
       "      <td>Mobile Faktura</td>\n",
       "      <td>8</td>\n",
       "    </tr>\n",
       "    <tr>\n",
       "      <th>618487</th>\n",
       "      <td>2016-11-24 18:00:00</td>\n",
       "      <td>Mobile Faktura</td>\n",
       "      <td>7</td>\n",
       "    </tr>\n",
       "    <tr>\n",
       "      <th>618491</th>\n",
       "      <td>2016-11-24 18:15:00</td>\n",
       "      <td>Mobile Faktura</td>\n",
       "      <td>1</td>\n",
       "    </tr>\n",
       "    <tr>\n",
       "      <th>659968</th>\n",
       "      <td>2016-11-24 18:15:00</td>\n",
       "      <td>Mobile Faktura</td>\n",
       "      <td>12</td>\n",
       "    </tr>\n",
       "    <tr>\n",
       "      <th>659970</th>\n",
       "      <td>2016-11-24 18:30:00</td>\n",
       "      <td>Mobile Faktura</td>\n",
       "      <td>0</td>\n",
       "    </tr>\n",
       "    <tr>\n",
       "      <th>759587</th>\n",
       "      <td>2016-11-24 18:30:00</td>\n",
       "      <td>Mobile Faktura</td>\n",
       "      <td>10</td>\n",
       "    </tr>\n",
       "    <tr>\n",
       "      <th>618519</th>\n",
       "      <td>2016-11-24 18:45:00</td>\n",
       "      <td>Mobile Faktura</td>\n",
       "      <td>1</td>\n",
       "    </tr>\n",
       "    <tr>\n",
       "      <th>618518</th>\n",
       "      <td>2016-11-24 18:45:00</td>\n",
       "      <td>Mobile Faktura</td>\n",
       "      <td>1</td>\n",
       "    </tr>\n",
       "    <tr>\n",
       "      <th>615613</th>\n",
       "      <td>2016-11-24 18:45:00</td>\n",
       "      <td>Mobile Faktura</td>\n",
       "      <td>6</td>\n",
       "    </tr>\n",
       "    <tr>\n",
       "      <th>618520</th>\n",
       "      <td>2016-11-24 19:00:00</td>\n",
       "      <td>Mobile Faktura</td>\n",
       "      <td>3</td>\n",
       "    </tr>\n",
       "    <tr>\n",
       "      <th>668881</th>\n",
       "      <td>2016-11-24 19:00:00</td>\n",
       "      <td>Mobile Faktura</td>\n",
       "      <td>7</td>\n",
       "    </tr>\n",
       "    <tr>\n",
       "      <th>759591</th>\n",
       "      <td>2016-11-24 19:15:00</td>\n",
       "      <td>Mobile Faktura</td>\n",
       "      <td>3</td>\n",
       "    </tr>\n",
       "    <tr>\n",
       "      <th>659974</th>\n",
       "      <td>2016-11-24 19:15:00</td>\n",
       "      <td>Mobile Faktura</td>\n",
       "      <td>7</td>\n",
       "    </tr>\n",
       "    <tr>\n",
       "      <th>668883</th>\n",
       "      <td>2016-11-24 19:15:00</td>\n",
       "      <td>Mobile Faktura</td>\n",
       "      <td>1</td>\n",
       "    </tr>\n",
       "    <tr>\n",
       "      <th>759592</th>\n",
       "      <td>2016-11-24 19:30:00</td>\n",
       "      <td>Mobile Faktura</td>\n",
       "      <td>6</td>\n",
       "    </tr>\n",
       "    <tr>\n",
       "      <th>615757</th>\n",
       "      <td>2016-11-24 19:30:00</td>\n",
       "      <td>Mobile Faktura</td>\n",
       "      <td>3</td>\n",
       "    </tr>\n",
       "    <tr>\n",
       "      <th>637340</th>\n",
       "      <td>2016-11-24 19:45:00</td>\n",
       "      <td>Mobile Faktura</td>\n",
       "      <td>6</td>\n",
       "    </tr>\n",
       "    <tr>\n",
       "      <th>759593</th>\n",
       "      <td>2016-11-24 20:00:00</td>\n",
       "      <td>Mobile Faktura</td>\n",
       "      <td>2</td>\n",
       "    </tr>\n",
       "  </tbody>\n",
       "</table>\n",
       "<p>164939 rows × 3 columns</p>\n",
       "</div>"
      ],
      "text/plain": [
       "                      Time            Type  NumCalls\n",
       "15     2013-01-01 09:00:00  Mobile Faktura         1\n",
       "21     2013-01-01 09:15:00  Mobile Faktura         3\n",
       "52     2013-01-01 09:15:00  Mobile Faktura         1\n",
       "32     2013-01-01 09:30:00  Mobile Faktura         2\n",
       "46     2013-01-01 09:30:00  Mobile Faktura         1\n",
       "25     2013-01-01 09:45:00  Mobile Faktura         1\n",
       "37     2013-01-01 09:45:00  Mobile Faktura         1\n",
       "54     2013-01-01 10:00:00  Mobile Faktura         7\n",
       "56     2013-01-01 10:15:00  Mobile Faktura         2\n",
       "57     2013-01-01 10:30:00  Mobile Faktura         1\n",
       "35     2013-01-01 10:30:00  Mobile Faktura         2\n",
       "29     2013-01-01 10:45:00  Mobile Faktura         2\n",
       "11     2013-01-01 10:45:00  Mobile Faktura         2\n",
       "13     2013-01-01 11:00:00  Mobile Faktura         5\n",
       "114    2013-01-01 11:15:00  Mobile Faktura         2\n",
       "62     2013-01-01 11:30:00  Mobile Faktura         5\n",
       "76     2013-01-01 11:45:00  Mobile Faktura         5\n",
       "4      2013-01-01 12:00:00  Mobile Faktura         5\n",
       "69     2013-01-01 12:15:00  Mobile Faktura         8\n",
       "109    2013-01-01 12:15:00  Mobile Faktura         1\n",
       "71     2013-01-01 12:30:00  Mobile Faktura         7\n",
       "80     2013-01-01 12:45:00  Mobile Faktura         5\n",
       "86     2013-01-01 12:45:00  Mobile Faktura         1\n",
       "159    2013-01-01 13:00:00  Mobile Faktura         4\n",
       "135    2013-01-01 13:00:00  Mobile Faktura         1\n",
       "190    2013-01-01 13:15:00  Mobile Faktura         3\n",
       "75     2013-01-01 13:15:00  Mobile Faktura         1\n",
       "120    2013-01-01 13:30:00  Mobile Faktura         1\n",
       "163    2013-01-01 13:30:00  Mobile Faktura         1\n",
       "140    2013-01-01 13:45:00  Mobile Faktura         2\n",
       "...                    ...             ...       ...\n",
       "673252 2016-11-24 16:30:00  Mobile Faktura         2\n",
       "605802 2016-11-24 16:30:00  Mobile Faktura        10\n",
       "605803 2016-11-24 16:45:00  Mobile Faktura        12\n",
       "659958 2016-11-24 16:45:00  Mobile Faktura         2\n",
       "659957 2016-11-24 16:45:00  Mobile Faktura         0\n",
       "759580 2016-11-24 17:00:00  Mobile Faktura         1\n",
       "668854 2016-11-24 17:00:00  Mobile Faktura         7\n",
       "636164 2016-11-24 17:00:00  Mobile Faktura        13\n",
       "615578 2016-11-24 17:15:00  Mobile Faktura         6\n",
       "605805 2016-11-24 17:15:00  Mobile Faktura        10\n",
       "673258 2016-11-24 17:30:00  Mobile Faktura         8\n",
       "605807 2016-11-24 17:30:00  Mobile Faktura         2\n",
       "659965 2016-11-24 17:45:00  Mobile Faktura         8\n",
       "618487 2016-11-24 18:00:00  Mobile Faktura         7\n",
       "618491 2016-11-24 18:15:00  Mobile Faktura         1\n",
       "659968 2016-11-24 18:15:00  Mobile Faktura        12\n",
       "659970 2016-11-24 18:30:00  Mobile Faktura         0\n",
       "759587 2016-11-24 18:30:00  Mobile Faktura        10\n",
       "618519 2016-11-24 18:45:00  Mobile Faktura         1\n",
       "618518 2016-11-24 18:45:00  Mobile Faktura         1\n",
       "615613 2016-11-24 18:45:00  Mobile Faktura         6\n",
       "618520 2016-11-24 19:00:00  Mobile Faktura         3\n",
       "668881 2016-11-24 19:00:00  Mobile Faktura         7\n",
       "759591 2016-11-24 19:15:00  Mobile Faktura         3\n",
       "659974 2016-11-24 19:15:00  Mobile Faktura         7\n",
       "668883 2016-11-24 19:15:00  Mobile Faktura         1\n",
       "759592 2016-11-24 19:30:00  Mobile Faktura         6\n",
       "615757 2016-11-24 19:30:00  Mobile Faktura         3\n",
       "637340 2016-11-24 19:45:00  Mobile Faktura         6\n",
       "759593 2016-11-24 20:00:00  Mobile Faktura         2\n",
       "\n",
       "[164939 rows x 3 columns]"
      ]
     },
     "execution_count": 265,
     "metadata": {},
     "output_type": "execute_result"
    }
   ],
   "source": [
    "dfak.sort_values(by='Time')"
   ]
  },
  {
   "cell_type": "code",
   "execution_count": 266,
   "metadata": {
    "collapsed": false
   },
   "outputs": [],
   "source": [
    "dfak2 = dfak.groupby(['Time'])['NumCalls'].sum()"
   ]
  },
  {
   "cell_type": "code",
   "execution_count": 267,
   "metadata": {
    "collapsed": false
   },
   "outputs": [],
   "source": [
    "dfak2 =pd.DataFrame(dfak2,columns = ['Time','NumCalls'])"
   ]
  },
  {
   "cell_type": "code",
   "execution_count": 268,
   "metadata": {
    "collapsed": false
   },
   "outputs": [],
   "source": [
    "del dfak2['Time']"
   ]
  },
  {
   "cell_type": "code",
   "execution_count": 269,
   "metadata": {
    "collapsed": false
   },
   "outputs": [],
   "source": [
    "df3  = dfak2['12-2013':'2-2014']"
   ]
  },
  {
   "cell_type": "code",
   "execution_count": 270,
   "metadata": {
    "collapsed": false
   },
   "outputs": [
    {
     "data": {
      "text/plain": [
       "<matplotlib.axes._subplots.AxesSubplot at 0x5e196518>"
      ]
     },
     "execution_count": 270,
     "metadata": {},
     "output_type": "execute_result"
    },
    {
     "data": {
      "image/png": "[encoded data removed]",
      "text/plain": [
       "<matplotlib.figure.Figure at 0x9fe4748>"
      ]
     },
     "metadata": {},
     "output_type": "display_data"
    }
   ],
   "source": [
    "df3.resample('D').sum().plot()\n"
   ]
  },
  {
   "cell_type": "code",
   "execution_count": 271,
   "metadata": {
    "collapsed": false
   },
   "outputs": [
    {
     "data": {
      "text/plain": [
       "<matplotlib.axes._subplots.AxesSubplot at 0x9059c940>"
      ]
     },
     "execution_count": 271,
     "metadata": {},
     "output_type": "execute_result"
    },
    {
     "data": {
      "image/png": "[encoded data removed]",
      "text/plain": [
       "<matplotlib.figure.Figure at 0x1ed62128>"
      ]
     },
     "metadata": {},
     "output_type": "display_data"
    }
   ],
   "source": [
    "df3.resample('15T').sum().plot()"
   ]
  },
  {
   "cell_type": "code",
   "execution_count": null,
   "metadata": {
    "collapsed": true
   },
   "outputs": [],
   "source": []
  }
 ],
 "metadata": {
  "anaconda-cloud": {},
  "kernelspec": {
   "display_name": "Python [conda env:python2]",
   "language": "python",
   "name": "conda-env-python2-py"
  },
  "language_info": {
   "codemirror_mode": {
    "name": "ipython",
    "version": 2
   },
   "file_extension": ".py",
   "mimetype": "text/x-python",
   "name": "python",
   "nbconvert_exporter": "python",
   "pygments_lexer": "ipython2",
   "version": "2.7.12"
  }
 },
 "nbformat": 4,
 "nbformat_minor": 1
}
